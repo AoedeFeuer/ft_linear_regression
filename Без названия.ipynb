{
 "cells": [
  {
   "cell_type": "code",
   "execution_count": 1,
   "metadata": {},
   "outputs": [],
   "source": [
    "import pandas as pd\n",
    "import numpy as np\n",
    "import matplotlib.pyplot as plt"
   ]
  },
  {
   "cell_type": "code",
   "execution_count": 2,
   "metadata": {},
   "outputs": [],
   "source": [
    "data_info = pd.read_csv(\"data.csv\")\n",
    "km = data_info.iloc[:,:-1].values\n",
    "price = data_info.iloc[:,1].values"
   ]
  },
  {
   "cell_type": "code",
   "execution_count": 3,
   "metadata": {},
   "outputs": [
    {
     "name": "stdout",
     "output_type": "stream",
     "text": [
      "[[240000]\n",
      " [139800]\n",
      " [150500]\n",
      " [185530]\n",
      " [176000]\n",
      " [114800]\n",
      " [166800]\n",
      " [ 89000]\n",
      " [144500]\n",
      " [ 84000]\n",
      " [ 82029]\n",
      " [ 63060]\n",
      " [ 74000]\n",
      " [ 97500]\n",
      " [ 67000]\n",
      " [ 76025]\n",
      " [ 48235]\n",
      " [ 93000]\n",
      " [ 60949]\n",
      " [ 65674]\n",
      " [ 54000]\n",
      " [ 68500]\n",
      " [ 22899]\n",
      " [ 61789]]\n",
      "[3650 3800 4400 4450 5250 5350 5800 5990 5999 6200 6390 6390 6600 6800\n",
      " 6800 6900 6900 6990 7490 7555 7990 7990 7990 8290]\n"
     ]
    }
   ],
   "source": [
    "print(km)\n",
    "print(price)"
   ]
  },
  {
   "cell_type": "code",
   "execution_count": 12,
   "metadata": {},
   "outputs": [],
   "source": [
    "class FTLinReg():\n",
    "    def __init__(self, iteration, learning_rate):\n",
    "        self.learning_rate = learning_rate\n",
    "        self.iteration = iteration\n",
    "\n",
    "    def fit(self, km, price):\n",
    "        self.m, self.n = km.shape\n",
    "        self.thetha1 = np.zeros(self.n)\n",
    "        self.thetha0 = 0\n",
    "        self.km = km\n",
    "        self.price = price\n",
    "\n",
    "        for i in range(self.iteration):\n",
    "            self.update_thetha1()\n",
    "        return self\n",
    "\n",
    "    def update_thetha1(self):\n",
    "        price_prediction = self.predict(self.km)\n",
    "        \n",
    "        d_thetha1 = - (2  * (self.km.T).dot(self.price - price_prediction) ) / self.m\n",
    "        d_thetha0 = (-2 / self.m) * np.sum(self.price - price_prediction)\n",
    "\n",
    "        self.thetha1 = self.thetha1 - self.learning_rate * d_thetha1\n",
    "        self.thetha0 = self.thetha0 - self.learning_rate * d_thetha0\n",
    "        return self\n",
    "     \n",
    "    def predict (self, km):\n",
    "        return km.dot(self.thetha1) + self.thetha0"
   ]
  },
  {
   "cell_type": "code",
   "execution_count": 14,
   "metadata": {},
   "outputs": [],
   "source": [
    "def main ():\n",
    "    model = FTLinReg(iteration = 5, learning_rate = 0.01)\n",
    "    model.fit(km, price)\n",
    "    "
   ]
  },
  {
   "cell_type": "code",
   "execution_count": 20,
   "metadata": {},
   "outputs": [
    {
     "data": {
      "image/png": "[encoded data removed]",
      "text/plain": [
       "<Figure size 432x288 with 1 Axes>"
      ]
     },
     "metadata": {
      "needs_background": "light"
     },
     "output_type": "display_data"
    }
   ],
   "source": [
    "    plt.figure()\n",
    "    plt.scatter(km, price, color = 'blue')\n",
    "    plt.show()"
   ]
  },
  {
   "cell_type": "code",
   "execution_count": 23,
   "metadata": {},
   "outputs": [
    {
     "ename": "AttributeError",
     "evalue": "'list' object has no attribute 'dot'",
     "output_type": "error",
     "traceback": [
      "\u001b[0;31m---------------------------------------------------------------------------\u001b[0m",
      "\u001b[0;31mAttributeError\u001b[0m                            Traceback (most recent call last)",
      "\u001b[0;32m<ipython-input-23-3ac2dd684ffd>\u001b[0m in \u001b[0;36m<module>\u001b[0;34m\u001b[0m\n\u001b[0;32m----> 1\u001b[0;31m \u001b[0mmodel\u001b[0m\u001b[0;34m.\u001b[0m\u001b[0mpredict\u001b[0m\u001b[0;34m(\u001b[0m\u001b[0;34m[\u001b[0m\u001b[0;36m8000\u001b[0m\u001b[0;34m,\u001b[0m\u001b[0;34m]\u001b[0m\u001b[0;34m)\u001b[0m\u001b[0;34m\u001b[0m\u001b[0;34m\u001b[0m\u001b[0m\n\u001b[0m",
      "\u001b[0;32m<ipython-input-12-59d11d6b0ea7>\u001b[0m in \u001b[0;36mpredict\u001b[0;34m(self, km)\u001b[0m\n\u001b[1;32m     26\u001b[0m \u001b[0;34m\u001b[0m\u001b[0m\n\u001b[1;32m     27\u001b[0m     \u001b[0;32mdef\u001b[0m \u001b[0mpredict\u001b[0m \u001b[0;34m(\u001b[0m\u001b[0mself\u001b[0m\u001b[0;34m,\u001b[0m \u001b[0mkm\u001b[0m\u001b[0;34m)\u001b[0m\u001b[0;34m:\u001b[0m\u001b[0;34m\u001b[0m\u001b[0;34m\u001b[0m\u001b[0m\n\u001b[0;32m---> 28\u001b[0;31m         \u001b[0;32mreturn\u001b[0m \u001b[0mkm\u001b[0m\u001b[0;34m.\u001b[0m\u001b[0mdot\u001b[0m\u001b[0;34m(\u001b[0m\u001b[0mself\u001b[0m\u001b[0;34m.\u001b[0m\u001b[0mthetha1\u001b[0m\u001b[0;34m)\u001b[0m \u001b[0;34m+\u001b[0m \u001b[0mself\u001b[0m\u001b[0;34m.\u001b[0m\u001b[0mthetha0\u001b[0m\u001b[0;34m\u001b[0m\u001b[0;34m\u001b[0m\u001b[0m\n\u001b[0m",
      "\u001b[0;31mAttributeError\u001b[0m: 'list' object has no attribute 'dot'"
     ]
    }
   ],
   "source": [
    "model.predict()"
   ]
  },
  {
   "cell_type": "code",
   "execution_count": null,
   "metadata": {},
   "outputs": [],
   "source": []
  }
 ],
 "metadata": {
  "kernelspec": {
   "display_name": "Python 3",
   "language": "python",
   "name": "python3"
  },
  "language_info": {
   "codemirror_mode": {
    "name": "ipython",
    "version": 3
   },
   "file_extension": ".py",
   "mimetype": "text/x-python",
   "name": "python",
   "nbconvert_exporter": "python",
   "pygments_lexer": "ipython3",
   "version": "3.8.5"
  }
 },
 "nbformat": 4,
 "nbformat_minor": 4
}

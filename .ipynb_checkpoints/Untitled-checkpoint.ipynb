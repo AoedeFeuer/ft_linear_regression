{
 "cells": [
  {
   "cell_type": "code",
   "execution_count": 2,
   "metadata": {},
   "outputs": [],
   "source": [
    "#импортируем библиотеки\n",
    "import pandas as pd\n",
    "import numpy as np\n",
    "import matplotlib.pyplot as plt"
   ]
  },
  {
   "cell_type": "code",
   "execution_count": 3,
   "metadata": {},
   "outputs": [],
   "source": [
    "#используемые функции\n",
    "def ft_min_max_norm(minmax, num):\n",
    "    return(((num - minmax['min']) / (minmax['max'] - minmax['min'])))\n",
    "\n",
    "def ft_min_max_denorm(minmax, num):\n",
    "    return(num * (minmax['max'] - minmax['min']) + minmax['min'])\n",
    "\n",
    "def predict_price(theta, norm_km):\n",
    "    return theta[0] + theta[1] * norm_km\n",
    "\n",
    "def gradient_des(n, theta, norm_km, norm_price, theta_tmp, cost_t, error_cost):\n",
    "    for i in range(n):\n",
    "        y_pred = predict_price(theta, norm_km[i])   # predict value for given x\n",
    "        error_cost += (norm_price[i] - y_pred)**2\n",
    "        theta_tmp[0] += (y_pred - norm_price[i])\n",
    "        theta_tmp[1] += ((y_pred - norm_price[i]) * norm_km[i])\n",
    "        cost_t[0] += theta_tmp[0] * (-2)\n",
    "        cost_t[1] += theta_tmp[1] * (-2)\n",
    "    return(theta_tmp, error_cost)"
   ]
  },
  {
   "cell_type": "code",
   "execution_count": 4,
   "metadata": {
    "scrolled": true
   },
   "outputs": [
    {
     "name": "stdout",
     "output_type": "stream",
     "text": [
      "        km  price\n",
      "0   240000   3650\n",
      "1   139800   3800\n",
      "2   150500   4400\n",
      "3   185530   4450\n",
      "4   176000   5250\n",
      "5   114800   5350\n",
      "6   166800   5800\n",
      "7    89000   5990\n",
      "8   144500   5999\n",
      "9    84000   6200\n",
      "10   82029   6390\n",
      "11   63060   6390\n",
      "12   74000   6600\n",
      "13   97500   6800\n",
      "14   67000   6800\n",
      "15   76025   6900\n",
      "16   48235   6900\n",
      "17   93000   6990\n",
      "18   60949   7490\n",
      "19   65674   7555\n",
      "20   54000   7990\n",
      "21   68500   7990\n",
      "22   22899   7990\n",
      "23   61789   8290\n"
     ]
    }
   ],
   "source": [
    "#читаем файл, подготавливаем данные\n",
    "df = pd.read_csv('data.csv')\n",
    "print(df)\n",
    "\n",
    "km = np.array(df.iloc[:,:-1].values, dtype='float64')\n",
    "price = np.array(df.iloc[:,1].values, dtype='float64')\n",
    "n = np.size(km)"
   ]
  },
  {
   "cell_type": "code",
   "execution_count": 5,
   "metadata": {},
   "outputs": [
    {
     "name": "stdout",
     "output_type": "stream",
     "text": [
      "{'min': 22899.0, 'max': 240000.0} {'min': 3650.0, 'max': 8290.0}\n"
     ]
    }
   ],
   "source": [
    "#нормализация минмакс\n",
    "minmaxKm = {'min': float(min(km)), 'max': float(max(km))}\n",
    "minmaxPr = {'min': min(price), 'max': max(price)}\n",
    "print(minmaxKm, minmaxPr)"
   ]
  },
  {
   "cell_type": "code",
   "execution_count": 6,
   "metadata": {},
   "outputs": [
    {
     "name": "stdout",
     "output_type": "stream",
     "text": [
      "[[1.        ]\n",
      " [0.53846366]\n",
      " [0.58774948]\n",
      " [0.74910295]\n",
      " [0.70520633]\n",
      " [0.42330989]\n",
      " [0.66282974]\n",
      " [0.30447119]\n",
      " [0.56011257]\n",
      " [0.28144044]\n",
      " [0.27236171]\n",
      " [0.18498763]\n",
      " [0.23537893]\n",
      " [0.34362347]\n",
      " [0.20313587]\n",
      " [0.24470638]\n",
      " [0.11670144]\n",
      " [0.3228958 ]\n",
      " [0.17526405]\n",
      " [0.19702811]\n",
      " [0.1432559 ]\n",
      " [0.21004509]\n",
      " [0.        ]\n",
      " [0.17913321]] [0.         0.03232759 0.16163793 0.17241379 0.34482759 0.36637931\n",
      " 0.46336207 0.50431034 0.50625    0.54956897 0.59051724 0.59051724\n",
      " 0.63577586 0.67887931 0.67887931 0.70043103 0.70043103 0.71982759\n",
      " 0.82758621 0.84159483 0.93534483 0.93534483 0.93534483 1.        ]\n"
     ]
    }
   ],
   "source": [
    "norm_km = ft_min_max_norm(minmaxKm, km)\n",
    "norm_price = ft_min_max_norm(minmaxPr, price)\n",
    "print(norm_km, norm_price)"
   ]
  },
  {
   "cell_type": "code",
   "execution_count": 7,
   "metadata": {
    "scrolled": false
   },
   "outputs": [
    {
     "data": {
      "image/png": "[encoded data removed]",
      "text/plain": [
       "<Figure size 432x288 with 1 Axes>"
      ]
     },
     "metadata": {
      "needs_background": "light"
     },
     "output_type": "display_data"
    }
   ],
   "source": [
    "#график до\n",
    "plt.scatter(norm_km,norm_price, color = 'red')\n",
    "plt.xlabel(\"km\")\n",
    "plt.ylabel(\"price\")\n",
    "plt.show()"
   ]
  },
  {
   "cell_type": "code",
   "execution_count": 23,
   "metadata": {},
   "outputs": [
    {
     "name": "stdout",
     "output_type": "stream",
     "text": [
      "0 [0.05779813] [0.01514862]\n",
      "50 [0.58884745] [-0.08164285]\n",
      "100 [0.66686136] [-0.28442783]\n",
      "150 [0.72688265] [-0.44284731]\n",
      "200 [0.77367998] [-0.56636948]\n",
      "250 [0.81016838] [-0.66268111]\n",
      "300 [0.8386188] [-0.73777637]\n",
      "350 [0.86080191] [-0.79632899]\n",
      "400 [0.87809832] [-0.84198312]\n",
      "450 [0.89158454] [-0.87758016]\n",
      "500 [0.90209989] [-0.90533557]\n",
      "550 [0.91029882] [-0.92697678]\n",
      "600 [0.91669163] [-0.94385067]\n",
      "650 [0.92167617] [-0.95700743]\n",
      "700 [0.92556267] [-0.96726591]\n",
      "750 [0.92859302] [-0.97526456]\n",
      "800 [0.93095582] [-0.98150119]\n",
      "850 [0.93279812] [-0.98636397]\n",
      "900 [0.93423458] [-0.99015553]\n",
      "950 [0.9353546] [-0.99311185]\n"
     ]
    }
   ],
   "source": [
    "theta = [0.0,0.0]\n",
    "lr = 0.1\n",
    "epoches = 1000\n",
    "error = []\n",
    "regr = [[],[]]\n",
    "\n",
    "for epoch in range(epoches):\n",
    "    error_cost = 0\n",
    "    cost_t = [0.0, 0.0]\n",
    "    theta_tmp = [0.0, 0.0]\n",
    "    theta_tmp, error_cost = gradient_des(n, theta, norm_km, norm_price, theta_tmp, cost_t, error_cost)\n",
    "    theta[0] -= lr * (theta_tmp[0] / n)\n",
    "    theta[1] -= lr * (theta_tmp[1] / n)\n",
    "    if(epoch % 50 == 0):\n",
    "        print(epoch,theta[0],theta[1])\n",
    "        regr[0].append(epoch)\n",
    "        regr[1].append(predict_price(theta,norm_km))\n",
    "    error.append(error_cost)"
   ]
  },
  {
   "cell_type": "code",
   "execution_count": 30,
   "metadata": {
    "scrolled": true
   },
   "outputs": [
    {
     "name": "stdout",
     "output_type": "stream",
     "text": [
      "[0.93621248]\n",
      "[-0.99537622]\n"
     ]
    },
    {
     "data": {
      "text/plain": [
       "Text(0, 0.5, 'price')"
      ]
     },
     "execution_count": 30,
     "metadata": {},
     "output_type": "execute_result"
    },
    {
     "data": {
      "image/png": "[encoded data removed]",
      "text/plain": [
       "<Figure size 432x288 with 1 Axes>"
      ]
     },
     "metadata": {
      "needs_background": "light"
     },
     "output_type": "display_data"
    }
   ],
   "source": [
    "print(theta[0]) #[0.93931893][-1.00357574]\n",
    "print(theta[1])\n",
    "\n",
    "plt.scatter(norm_km,norm_price,color = 'red')\n",
    "for i in range (len(regr[1])):\n",
    "    plt.plot(norm_km,regr[1][i],color = 'green')\n",
    "plt.xlabel(\"km\")\n",
    "plt.ylabel(\"price\")"
   ]
  },
  {
   "cell_type": "code",
   "execution_count": 268,
   "metadata": {},
   "outputs": [
    {
     "data": {
      "text/plain": [
       "Text(0, 0.5, 'Error')"
      ]
     },
     "execution_count": 268,
     "metadata": {},
     "output_type": "execute_result"
    },
    {
     "data": {
      "image/png": "[encoded data removed]",
      "text/plain": [
       "<Figure size 720x360 with 1 Axes>"
      ]
     },
     "metadata": {
      "needs_background": "light"
     },
     "output_type": "display_data"
    }
   ],
   "source": [
    "plt.figure(figsize=(10,5))\n",
    "plt.plot(np.arange(1,len(error)+1),error,color='red',linewidth = 5)\n",
    "plt.title(\"Зависимость ошибки от количества эпох\")\n",
    "plt.xlabel(\"Epoches\")\n",
    "plt.ylabel(\"Error\")"
   ]
  },
  {
   "cell_type": "code",
   "execution_count": 269,
   "metadata": {},
   "outputs": [
    {
     "data": {
      "text/plain": [
       "Text(0, 0.5, 'price')"
      ]
     },
     "execution_count": 269,
     "metadata": {},
     "output_type": "execute_result"
    },
    {
     "data": {
      "image/png": "[encoded data removed]",
      "text/plain": [
       "<Figure size 432x288 with 1 Axes>"
      ]
     },
     "metadata": {
      "needs_background": "light"
     },
     "output_type": "display_data"
    }
   ],
   "source": [
    "price_lenreg = ft_min_max_denorm(minmaxPr, predict_price(theta,norm_km))\n",
    "\n",
    "plt.scatter(km,price,color = 'red')\n",
    "plt.plot(km,price_lenreg,color = 'green')\n",
    "plt.xlabel(\"km\")\n",
    "plt.ylabel(\"price\")"
   ]
  },
  {
   "cell_type": "code",
   "execution_count": 271,
   "metadata": {},
   "outputs": [
    {
     "name": "stdout",
     "output_type": "stream",
     "text": [
      "mean squared error is 445727.41571772983\n"
     ]
    }
   ],
   "source": [
    "error1 = price - price_lenreg.T\n",
    "se = np.sum(error1 ** 2)\n",
    "mse = se/float(n)\n",
    "print(\"mean squared error is\", mse) #0.020703004966080643"
   ]
  },
  {
   "cell_type": "code",
   "execution_count": 14,
   "metadata": {},
   "outputs": [
    {
     "name": "stdout",
     "output_type": "stream",
     "text": [
      "[[1.        ]\n",
      " [0.53846366]\n",
      " [0.58774948]\n",
      " [0.74910295]\n",
      " [0.70520633]\n",
      " [0.42330989]\n",
      " [0.66282974]\n",
      " [0.30447119]\n",
      " [0.56011257]\n",
      " [0.28144044]\n",
      " [0.27236171]\n",
      " [0.18498763]\n",
      " [0.23537893]\n",
      " [0.34362347]\n",
      " [0.20313587]\n",
      " [0.24470638]\n",
      " [0.11670144]\n",
      " [0.3228958 ]\n",
      " [0.17526405]\n",
      " [0.19702811]\n",
      " [0.1432559 ]\n",
      " [0.21004509]\n",
      " [0.        ]\n",
      " [0.17913321]]\n",
      "[0.         0.03232759 0.16163793 0.17241379 0.34482759 0.36637931\n",
      " 0.46336207 0.50431034 0.50625    0.54956897 0.59051724 0.59051724\n",
      " 0.63577586 0.67887931 0.67887931 0.70043103 0.70043103 0.71982759\n",
      " 0.82758621 0.84159483 0.93534483 0.93534483 0.93534483 1.        ]\n",
      "slop [-1.00357574]\n",
      "Intercept 0.9393189294497468\n",
      "MSE 0.02069918833007921\n"
     ]
    }
   ],
   "source": [
    "from sklearn.linear_model import LinearRegression\n",
    "from sklearn.metrics import mean_squared_error \n",
    "experience = norm_km.reshape(-1,1)\n",
    "model = LinearRegression()\n",
    "model.fit(norm_km,norm_price)\n",
    "price_pred = model.predict(norm_km)\n",
    "print(norm_km)\n",
    "print(norm_price)\n",
    "Mse = mean_squared_error(norm_price, price_pred)\n",
    "print('slop', model.coef_)\n",
    "print(\"Intercept\", model.intercept_)\n",
    "print(\"MSE\", Mse)"
   ]
  },
  {
   "cell_type": "code",
   "execution_count": 23,
   "metadata": {},
   "outputs": [
    {
     "name": "stdout",
     "output_type": "stream",
     "text": [
      "[-0.02144896] [30988.31718205]\n",
      "[[-89317.3017544]] [-89317.30175441]\n",
      "[[29079.35942239]]\n"
     ]
    }
   ],
   "source": [
    "k=[[89000]] #  5990\n",
    "a1_o = (maxPr - minPr) * a1 / (maxKm - minKm)\n",
    "a0_o = minPr + ((maxPr - minPr) * a0 + a1_o * (1 - minKm))\n",
    "print (a1_o,a0_o)\n",
    "pred_k1=a0+a1*k\n",
    "pred_k2=model.predict(k)\n",
    "print(pred_k1,pred_k2)\n",
    "print(a0_o + k * a1_o)"
   ]
  },
  {
   "cell_type": "code",
   "execution_count": null,
   "metadata": {},
   "outputs": [],
   "source": [
    "from matplotlib.animation import FuncAnimation\n",
    "\n",
    "anim = FuncAnimation(fig, animate, init_func=init_plot, fargs=(X, y,), frames=50, interval=200, blit=True)"
   ]
  }
 ],
 "metadata": {
  "kernelspec": {
   "display_name": "Python 3",
   "language": "python",
   "name": "python3"
  },
  "language_info": {
   "codemirror_mode": {
    "name": "ipython",
    "version": 3
   },
   "file_extension": ".py",
   "mimetype": "text/x-python",
   "name": "python",
   "nbconvert_exporter": "python",
   "pygments_lexer": "ipython3",
   "version": "3.8.5"
  }
 },
 "nbformat": 4,
 "nbformat_minor": 5
}
